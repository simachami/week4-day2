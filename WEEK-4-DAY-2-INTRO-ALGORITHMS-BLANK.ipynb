{
 "cells": [
  {
   "cell_type": "markdown",
   "metadata": {},
   "source": [
    "# Algorithms, Binary Search & Linked Lists"
   ]
  },
  {
   "cell_type": "markdown",
   "metadata": {},
   "source": [
    "## Tasks Today:\n",
    " \n",
    "1) <b>In-Place Algorithms</b> <br>\n",
    " &nbsp;&nbsp;&nbsp;&nbsp; a) Syntax <br>\n",
    " &nbsp;&nbsp;&nbsp;&nbsp; a) Out of Place Algorithm <br>\n",
    " &nbsp;&nbsp;&nbsp;&nbsp; b) In-Class Exercise #1 <br>\n",
    "2) <b>Two Pointers</b> <br>\n",
    "3) <b>Linked Lists</b> <br>\n",
    "4) <b>Merge Sort</b> <br>\n",
    " &nbsp;&nbsp;&nbsp;&nbsp; a) Video on Algorithms <br>\n",
    " &nbsp;&nbsp;&nbsp;&nbsp; b) How it Works <br>\n",
    "5) <b>Exercises</b> <br>\n",
    " &nbsp;&nbsp;&nbsp;&nbsp; a) Exercise #1 - Reverse a List in Place Using an In-Place Algorithm <br>\n",
    " &nbsp;&nbsp;&nbsp;&nbsp; b) Exercise #2 - Find Distinct Words <br>\n",
    " &nbsp;&nbsp;&nbsp;&nbsp; c) Exercise #3 - Write a program to implement a Linear Search Algorithm. <br>"
   ]
  },
  {
   "cell_type": "markdown",
   "metadata": {},
   "source": [
    "## In-Place Algorithms"
   ]
  },
  {
   "cell_type": "markdown",
   "metadata": {},
   "source": [
    "#### Syntax"
   ]
  },
  {
   "cell_type": "code",
   "execution_count": 2,
   "metadata": {},
   "outputs": [
    {
     "name": "stdout",
     "output_type": "stream",
     "text": [
      "[1, 100, 5]\n"
     ]
    }
   ],
   "source": [
    "def swap(alist, i_1, i_2):\n",
    "    alist[i_1], alist[i_2] = alist[i_2], alist[i_1]\n",
    "    return alist\n",
    "\n",
    "my_list = [100,1,5]\n",
    "\n",
    "swap(my_list, 0, 1)\n",
    "\n",
    "print(my_list)\n",
    "\n",
    "\n",
    "def swap(alist, i_1, i_2):\n",
    "    copy_i1 = alist[i_1]\n",
    "    alist[i_1] = alist[i_2]\n",
    "    alist[i_2] = copy_i1\n",
    "    return alist"
   ]
  },
  {
   "cell_type": "markdown",
   "metadata": {},
   "source": [
    "#### Out of Place Algorithm"
   ]
  },
  {
   "cell_type": "code",
   "execution_count": 4,
   "metadata": {},
   "outputs": [
    {
     "name": "stdout",
     "output_type": "stream",
     "text": [
      "new_list = [1, 2, 3, 4]\n",
      " copy_new_list = [4, 2, 3, 1]\n"
     ]
    }
   ],
   "source": [
    "def swap_copy(alist, i, j):\n",
    "    alist_copy = alist[:] #this will copy the list\n",
    "    #return swap(alist_copy, i,j) this would also work\n",
    "    alist_copy[i], alist_copy[j] = alist[j], alist_copy[i]\n",
    "    return alist_copy\n",
    "\n",
    "new_list = [1,2,3,4]\n",
    "copy_new_list = swap_copy(new_list,0,-1)\n",
    "print(f'{new_list = }\\n {copy_new_list = }')\n"
   ]
  },
  {
   "cell_type": "markdown",
   "metadata": {},
   "source": [
    "#### In-Class Exercise #1 <br>\n",
    "<p>Write a function that takes in four arguments (list, index1, index2, index3), and swaps those three positions in the list passed in.</p>"
   ]
  },
  {
   "cell_type": "code",
   "execution_count": 14,
   "metadata": {},
   "outputs": [
    {
     "name": "stdout",
     "output_type": "stream",
     "text": [
      "[10, 4, 3, 8, 4, 2, 6]\n",
      "[3, 4, 10, 8, 4, 2, 6]\n"
     ]
    }
   ],
   "source": [
    "#In-Place Algo\n",
    "l_1 = [10, 4, 3, 8, 4, 2, 6]\n",
    "\n",
    "def swap_list(list_, index1, index2, index3):\n",
    "    list_[index1], list_[index2], list_[index3] = list_[index3], list_[index2], list_[index1]\n",
    "    \n",
    "print(l_1)\n",
    "swap_list(l_1, 0, 1, 2)\n",
    "print(l_1)"
   ]
  },
  {
   "cell_type": "markdown",
   "metadata": {},
   "source": [
    "## Two Pointers"
   ]
  },
  {
   "cell_type": "markdown",
   "metadata": {},
   "source": [
    "#### Syntax"
   ]
  },
  {
   "cell_type": "code",
   "execution_count": 15,
   "metadata": {},
   "outputs": [
    {
     "name": "stdout",
     "output_type": "stream",
     "text": [
      "[2, 1, 9, 10]\n"
     ]
    }
   ],
   "source": [
    "#create two pointer (indecies) increment both indecies based of condition\n",
    "[1,2,3]\n",
    "def reverse_list(alist):\n",
    "    left_point, right_point = 0, len(alist) - 1\n",
    "    while left_point < right_point:\n",
    "        #created a swap in first cell\n",
    "        swap(alist, left_point, right_point)\n",
    "        left_point += 1\n",
    "        #if infinite loop double check right pointer\n",
    "        right_point -= 1\n",
    "        \n",
    "list_to_reverse = [10,9,1,2]\n",
    "\n",
    "reverse_list(list_to_reverse)\n",
    "\n",
    "print(list_to_reverse)"
   ]
  },
  {
   "cell_type": "markdown",
   "metadata": {},
   "source": [
    "#### Video of Algorithms <br>\n",
    "<p>Watch the video about algorithms.</p>\n",
    "\n",
    "https://www.youtube.com/watch?v=Q9HjeFD62Uk\n",
    "\n",
    "https://www.youtube.com/watch?v=kPRA0W1kECg\n",
    "\n",
    "https://www.youtube.com/watch?v=ZZuD6iUe3Pc"
   ]
  },
  {
   "cell_type": "code",
   "execution_count": 16,
   "metadata": {},
   "outputs": [
    {
     "name": "stdout",
     "output_type": "stream",
     "text": [
      "[2, 1, 9, 10]\n"
     ]
    }
   ],
   "source": [
    "def reverse_list2(alist):\n",
    "    left_point, right_point = 0, len(alist) - 1\n",
    "    while left_point < right_point:\n",
    "        #created a swap in first cell\n",
    "        alist[left_point], alist[right_point] = alist[right_point], alist[left_point]\n",
    "        left_point += 1\n",
    "        #if infinite loop double check right pointer\n",
    "        right_point -= 1\n",
    "        \n",
    "list_to_reverse = [10,9,1,2]\n",
    "\n",
    "reverse_list2(list_to_reverse)\n",
    "\n",
    "print(list_to_reverse)"
   ]
  },
  {
   "cell_type": "code",
   "execution_count": 35,
   "metadata": {},
   "outputs": [
    {
     "name": "stdout",
     "output_type": "stream",
     "text": [
      "True\n"
     ]
    }
   ],
   "source": [
    "def check_palindrome(astring):\n",
    "    left, right = 0, len(astring) - 1\n",
    "    while left< right:\n",
    "        if astring[left] != astring[right]:\n",
    "            return False\n",
    "        else:\n",
    "            left += 1\n",
    "            right -=1\n",
    "    return True\n",
    "         \n",
    "\n",
    "print(check_palindrome('racecar'))"
   ]
  },
  {
   "cell_type": "code",
   "execution_count": 32,
   "metadata": {},
   "outputs": [
    {
     "name": "stdout",
     "output_type": "stream",
     "text": [
      "True\n",
      "False\n"
     ]
    }
   ],
   "source": [
    "def palendrome(s):\n",
    "    l_pointer, r_pointer = 0, len(s) - 1\n",
    "    while l_pointer < r_pointer:\n",
    "        if s[l_pointer] != s[r_pointer]:\n",
    "            return False\n",
    "        else:\n",
    "            l_pointer += 1\n",
    "            r_pointer -= 1\n",
    "    return True\n",
    "print(palendrome('racecar'))\n",
    "print(palendrome('matrix'))\n"
   ]
  },
  {
   "cell_type": "code",
   "execution_count": 31,
   "metadata": {},
   "outputs": [
    {
     "name": "stdout",
     "output_type": "stream",
     "text": [
      "True\n"
     ]
    }
   ],
   "source": [
    "def check_palindrome(astring):\n",
    "    right_point = len(astring) -1\n",
    "    for left_point in range(len(astring)):\n",
    "        if astring[left_point] != astring[right_point]:\n",
    "            return False\n",
    "        right_point -= 1\n",
    "    return True\n",
    "\n",
    "print(check_palindrome('racecar'))"
   ]
  },
  {
   "cell_type": "markdown",
   "metadata": {},
   "source": [
    "# Sorting Algorithms"
   ]
  },
  {
   "cell_type": "markdown",
   "metadata": {},
   "source": [
    "#### Bubble Sort\n",
    "\n",
    "Worst Case: O(n^2) Time - O(1) Space"
   ]
  },
  {
   "cell_type": "code",
   "execution_count": 41,
   "metadata": {},
   "outputs": [
    {
     "name": "stdout",
     "output_type": "stream",
     "text": [
      "num_list = [3, 1, 19, 5, 10, 11, 7] after sort\n"
     ]
    }
   ],
   "source": [
    "#create to pointer to look at two numbers side by side (bubble)\n",
    "#say its sorted until we find a bubble out of order\n",
    "#compare each number in bubble and swap if out of order\n",
    "#after swap set flag to unsorted\n",
    "#move bubble\n",
    "#after each pass we know out right edge of list is in correct position\n",
    "#do while unsorted \n",
    "num_list = [3,1,19,5,10,11,7]\n",
    "def bubble_sort(alist):\n",
    "    not_sorted = True\n",
    "    while not_sorted:\n",
    "        left_point, right_point = 0,1\n",
    "        not_sorted = False\n",
    "        while right_point < len(alist):\n",
    "            if alist[left_point] > alist[right_point]:\n",
    "                swap(alist, left_point, right_point)\n",
    "                not_sorted = True\n",
    "            left_point += 1\n",
    "            right_point += 1\n",
    "        \n",
    "bubble_sort([num_list])\n",
    "print(f'{num_list = } after sort')"
   ]
  },
  {
   "cell_type": "markdown",
   "metadata": {},
   "source": [
    "##### Insertion Sort\n",
    "\n",
    "Worst Case: O(n^2) time - O(1)space"
   ]
  },
  {
   "cell_type": "code",
   "execution_count": null,
   "metadata": {},
   "outputs": [],
   "source": [
    "def insertion_sort(alist):\n",
    "    "
   ]
  },
  {
   "cell_type": "markdown",
   "metadata": {},
   "source": [
    "## Merge Sort"
   ]
  },
  {
   "cell_type": "markdown",
   "metadata": {},
   "source": [
    "#### How it Works"
   ]
  },
  {
   "cell_type": "code",
   "execution_count": null,
   "metadata": {},
   "outputs": [],
   "source": [
    "#recursively split list into halfs until size of 1\n",
    "#compare the numbers in the start each list finding smaller of two\n",
    "#take smaller value and plug into list it came from\n",
    "#until of this lists is complete then add remaining from other list\n",
    "#do while\n",
    "def merge_sort(list):\n"
   ]
  },
  {
   "cell_type": "code",
   "execution_count": 47,
   "metadata": {},
   "outputs": [
    {
     "name": "stdout",
     "output_type": "stream",
     "text": [
      "[1, 2]\n",
      "[1]\n",
      "['sean', 'dylan']\n",
      "['dylan']\n",
      "sean\n"
     ]
    }
   ],
   "source": [
    "#Stack - LIFO (stack of paper)\n",
    "\n",
    "stack = []\n",
    "stack.append(1)\n",
    "stack.append(2) #O(1)\n",
    "print(stack)\n",
    "stack.pop() #O(1)\n",
    "print(stack)\n",
    "\n",
    "#Queue - FIFO (waiting list or any sort of queue)\n",
    "\n",
    "queue = []\n",
    "queue.append('sean') #O(1)\n",
    "queue.append('dylan')\n",
    "print(queue)\n",
    "first_joined = queue.pop(0) #O(N) because it has to shuffle the entire queue\n",
    "print(queue)\n",
    "print(first_joined)"
   ]
  },
  {
   "cell_type": "code",
   "execution_count": null,
   "metadata": {},
   "outputs": [],
   "source": [
    "#Node has a value & connection to next node\n",
    "\n",
    "class Node:\n",
    "    "
   ]
  },
  {
   "cell_type": "markdown",
   "metadata": {},
   "source": [
    "# Binary Search\n",
    "\n",
    "The Binary Search algorithm works by finding the number in the middle of a given array and comparing it to the target. Given that the array is sorted\n",
    "\n",
    "* The worst case run time for this algorithm is `O(log(n))`"
   ]
  },
  {
   "cell_type": "code",
   "execution_count": null,
   "metadata": {},
   "outputs": [],
   "source": []
  },
  {
   "cell_type": "markdown",
   "metadata": {},
   "source": [
    "# Exercises"
   ]
  },
  {
   "cell_type": "markdown",
   "metadata": {},
   "source": [
    "### Exercise #1 <br>\n",
    "<p>Reverse the list below in-place using an in-place algorithm.<br>For extra credit: Reverse the strings at the same time.</p>"
   ]
  },
  {
   "cell_type": "code",
   "execution_count": 53,
   "metadata": {},
   "outputs": [
    {
     "name": "stdout",
     "output_type": "stream",
     "text": [
      "['this', 'is', 'a', 'sentence', '.']\n",
      "['.', 'sentence', 'a', 'is', 'this']\n"
     ]
    }
   ],
   "source": [
    "words = ['this' , 'is', 'a', 'sentence', '.']\n",
    "\n",
    "def swap(words, index1, index2, index3, index4, index5):\n",
    "    words[index1], words[index2], words[index3], words[index4], words[index5] = words[index5], words[index4], words[index3], words[index2], words[index1]\n",
    "print(words)\n",
    "swap(words, 0,1,2,3,4)\n",
    "print(words)\n"
   ]
  },
  {
   "cell_type": "markdown",
   "metadata": {},
   "source": [
    "### Exercise #2 <br>\n",
    "<p>Create a function that counts how many distinct words are in the string below, then outputs a dictionary with the words as the key and the value as the amount of times that word appears in the string.<br>Should output:<br>{'a': 5,<br>\n",
    " 'abstract': 1,<br>\n",
    " 'an': 3,<br>\n",
    " 'array': 2, ... etc...</p>"
   ]
  },
  {
   "cell_type": "code",
   "execution_count": 84,
   "metadata": {},
   "outputs": [
    {
     "name": "stdout",
     "output_type": "stream",
     "text": [
      "{'in': 1, 'computing,': 1, 'a': 5, 'hash': 4, 'table': 2, 'map': 2, 'is': 1, 'data': 2, 'structure': 2, 'which': 2, 'implements': 1, 'an': 3, 'associative': 1, 'array': 2, 'abstract': 1, 'type,': 1, 'that': 1, 'can': 2, 'keys': 1, 'to': 2, 'values.': 1, 'uses': 1, 'function': 1, 'compute': 1, 'index': 1, 'into': 1, 'of': 1, 'buckets': 1, 'or': 1, 'slots': 1, 'from': 1, 'the': 1, 'desired': 1, 'value': 1, 'be': 1, 'found': 1}\n"
     ]
    }
   ],
   "source": [
    "a_text = 'In computing, a hash table hash map is a data structure which implements an associative array abstract data type, a structure that can map keys to values. A hash table uses a hash function to compute an index into an array of buckets or slots from which the desired value can be found'\n",
    "\n",
    "def distinct_words(text):\n",
    "    dict = {}\n",
    "    words = text.lower().split()\n",
    "    \n",
    "    for word in words:\n",
    "        if word in dict:\n",
    "            dict[word] +=1\n",
    "        else:\n",
    "            dict[word] = 1\n",
    "    return dict\n",
    "print(distinct_words(a_text))"
   ]
  },
  {
   "cell_type": "markdown",
   "metadata": {},
   "source": [
    "## Exercise #3\n",
    "\n",
    "Write a program to implement a Linear Search Algorithm. Also in a comment, write the Time Complexity of the following algorithm.\n",
    "\n",
    "#### Hint: Linear Searching will require searching a list for a given number. "
   ]
  },
  {
   "cell_type": "code",
   "execution_count": 81,
   "metadata": {},
   "outputs": [
    {
     "name": "stdout",
     "output_type": "stream",
     "text": [
      "Could not find a match\n"
     ]
    }
   ],
   "source": [
    "#pass in list to search in and the value you want to find\n",
    "def linear_search(values, target):\n",
    "    #loop the valueList\n",
    "    \n",
    "    for item in values: #O(N)\n",
    "        #check if the current value == targetValue\n",
    "        if item == target: #O(1)\n",
    "            #if they are equal, return true\n",
    "            print(\"Found a match\")\n",
    "            return #O(1)\n",
    "    #outside of the for loop\n",
    "    #if we get this far, then it did not find a match. \n",
    "    print(\"Could not find a match\")\n",
    "\n",
    "num_list = [55,35,23,99,19,12,90]\n",
    "\n",
    "linear_search(num_list, 14)\n",
    "\n",
    "#O(N)"
   ]
  },
  {
   "cell_type": "code",
   "execution_count": null,
   "metadata": {},
   "outputs": [],
   "source": []
  }
 ],
 "metadata": {
  "kernelspec": {
   "display_name": "Python 3 (ipykernel)",
   "language": "python",
   "name": "python3"
  },
  "language_info": {
   "codemirror_mode": {
    "name": "ipython",
    "version": 3
   },
   "file_extension": ".py",
   "mimetype": "text/x-python",
   "name": "python",
   "nbconvert_exporter": "python",
   "pygments_lexer": "ipython3",
   "version": "3.10.9"
  }
 },
 "nbformat": 4,
 "nbformat_minor": 2
}
